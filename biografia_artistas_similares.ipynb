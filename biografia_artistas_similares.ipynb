{
 "cells": [
  {
   "cell_type": "code",
   "execution_count": null,
   "metadata": {},
   "outputs": [],
   "source": [
    "# Biografía del artista (modificar artist segun corresponda)\n",
    "\n",
    "import requests\n",
    "\n",
    "API_KEY = \"tu_key\"  # Reemplaza con tu clave de Last.fm\n",
    "ARTIST = \"Ariana Grande\"  # Cambia por el artista que quieras\n",
    "\n",
    "def get_artist_info(artist):\n",
    "    url = f\"http://ws.audioscrobbler.com/2.0/?method=artist.getinfo&artist={artist}&api_key={API_KEY}&format=json\"\n",
    "    response = requests.get(url)\n",
    "    if response.status_code == 200:\n",
    "        data = response.json()\n",
    "        if \"artist\" in data:\n",
    "            print(f\"Nombre: {data['artist']['name']}\")\n",
    "            print(f\"Biografía: {data['artist']['bio']['summary']}\")\n",
    "            print(f\"Oyentes: {data['artist']['stats']['listeners']}\")\n",
    "            print(f\"Reproducciones: {data['artist']['stats']['playcount']}\")\n",
    "            print(f\"URL: {data['artist']['url']}\")\n",
    "        else:\n",
    "            print(\"No se encontró el artista.\")\n",
    "    else:\n",
    "        print(f\"Error en la solicitud: {response.status_code}\")\n",
    "get_artist_info(ARTIST)"
   ]
  },
  {
   "cell_type": "code",
   "execution_count": null,
   "metadata": {},
   "outputs": [],
   "source": []
  },
  {
   "cell_type": "code",
   "execution_count": null,
   "metadata": {},
   "outputs": [],
   "source": [
    "# Artistas similares (modificar artist segun corresponda)\n",
    "\n",
    "import requests\n",
    "\n",
    "API_KEY = \"tu_key\"  # Reemplaza con tu clave de Last.fm\n",
    "ARTIST = \"Ariana Grande\"  # Cambia por el artista que quieras\n",
    "\n",
    "def get_similar_artists(artist):\n",
    "    # Obtener artistas similares\n",
    "    url_similar = f\"http://ws.audioscrobbler.com/2.0/?method=artist.getsimilar&artist={artist}&api_key={API_KEY}&format=json\"\n",
    "    response_similar = requests.get(url_similar)\n",
    "    \n",
    "    if response_similar.status_code == 200:\n",
    "        data_similar = response_similar.json()\n",
    "        \n",
    "        if \"similarartists\" in data_similar:\n",
    "            print(f\"Artistas similares a {artist}:\\n\")\n",
    "            for similar_artist in data_similar['similarartists']['artist']:\n",
    "                print(f\"- {similar_artist['name']}\")\n",
    "        else:\n",
    "            print(\"No se encontraron artistas similares.\")\n",
    "    else:\n",
    "        print(f\"Error en la solicitud de artistas similares: {response_similar.status_code}\")\n",
    "\n",
    "# Llamar a la función para obtener los artistas similares\n",
    "get_similar_artists(ARTIST)"
   ]
  },
  {
   "cell_type": "code",
   "execution_count": null,
   "metadata": {},
   "outputs": [],
   "source": []
  },
  {
   "cell_type": "code",
   "execution_count": null,
   "metadata": {},
   "outputs": [],
   "source": []
  },
  {
   "cell_type": "code",
   "execution_count": null,
   "metadata": {},
   "outputs": [],
   "source": []
  }
 ],
 "metadata": {
  "kernelspec": {
   "display_name": "base",
   "language": "python",
   "name": "python3"
  },
  "language_info": {
   "name": "python",
   "version": "3.12.7"
  }
 },
 "nbformat": 4,
 "nbformat_minor": 2
}
